{
 "cells": [
  {
   "cell_type": "code",
   "execution_count": 13,
   "metadata": {},
   "outputs": [],
   "source": [
    "import numpy as np\n",
    "import pandas as pd"
   ]
  },
  {
   "cell_type": "code",
   "execution_count": 14,
   "metadata": {},
   "outputs": [
    {
     "name": "stdout",
     "output_type": "stream",
     "text": [
      "[ 1.  -1.   0.   0.5]\n",
      "[array([ 1. , -2. ,  1.5,  0. ]), array([ 1. , -0.5, -2. , -1.5]), array([ 0. ,  1. , -1. ,  1.5])]\n"
     ]
    }
   ],
   "source": [
    "w=np.array([1,-1,0,0.5]).transpose()\n",
    "Xi=[np.array([1,-2,1.5,0]).transpose(), np.array([1,-0.5,-2,-1.5]).\n",
    "    transpose(), np.array([0,1,-1,1.5]).transpose()]\n",
    "C=1\n",
    "Iteration=0\n",
    "print(w)\n",
    "print (Xi) \n",
    "#print(len(xi))"
   ]
  },
  {
   "cell_type": "code",
   "execution_count": 15,
   "metadata": {},
   "outputs": [
    {
     "name": "stdout",
     "output_type": "stream",
     "text": [
      "weight vector for this iteration: [ 2.  -3.   1.5  0.5]\n",
      "weight vector for this iteration: [ 1.  -2.5  3.5  2. ]\n",
      "weight vector for this iteration: [ 1.  -3.5  4.5  0.5]\n"
     ]
    }
   ],
   "source": [
    "for i in range(len(Xi)): \n",
    "    net=sum(w.transpose()*Xi[i])\n",
    "    Fnet=np.sign(net)\n",
    "    dw=C*Fnet*Xi[i]\n",
    "    w=w+dw \n",
    "    print('weight vector for this iteration:',w)\n",
    "    Iteration+=1"
   ]
  },
  {
   "cell_type": "code",
   "execution_count": 16,
   "metadata": {},
   "outputs": [
    {
     "name": "stdout",
     "output_type": "stream",
     "text": [
      "final weight matrix: [ 1.  -3.5  4.5  0.5]\n",
      "number of iterations:  3\n"
     ]
    }
   ],
   "source": [
    "print (\"final weight matrix:\",w) \n",
    "print('number of iterations: ', Iteration)"
   ]
  }
 ],
 "metadata": {
  "kernelspec": {
   "display_name": "Python 3",
   "language": "python",
   "name": "python3"
  },
  "language_info": {
   "codemirror_mode": {
    "name": "ipython",
    "version": 3
   },
   "file_extension": ".py",
   "mimetype": "text/x-python",
   "name": "python",
   "nbconvert_exporter": "python",
   "pygments_lexer": "ipython3",
   "version": "3.11.1"
  },
  "orig_nbformat": 4,
  "vscode": {
   "interpreter": {
    "hash": "7e5c0badbb2d24bbc3f94f0128230c51073dab69f6205fe8338cbe6039d785c3"
   }
  }
 },
 "nbformat": 4,
 "nbformat_minor": 2
}
